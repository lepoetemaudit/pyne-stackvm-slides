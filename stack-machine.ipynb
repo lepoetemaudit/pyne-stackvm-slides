{
 "cells": [
  {
   "cell_type": "code",
   "execution_count": 17,
   "metadata": {
    "collapsed": true
   },
   "outputs": [],
   "source": [
    "# Define our machine\n",
    "\n",
    "from collections import namedtuple, deque\n",
    "\n",
    "MAIN_STACK_SIZE = 0x800\n",
    "CALL_STACK_SIZE = 0x400\n",
    "\n",
    "MAX_INT = 0x799F\n",
    "MIN_INT = -0x8000\n",
    "\n",
    "# Store the state of our machine\n",
    "Machine = namedtuple(\n",
    "    'Machine',\n",
    "    ['main_stack',\n",
    "     'call_stack',\n",
    "     'instruction_pointer',\n",
    "     'code'])\n",
    "\n",
    "\n",
    "# Definition of instructions\n",
    "Instruction = namedtuple(\n",
    "    'Instruction',\n",
    "    ['opcode',\n",
    "     'name',\n",
    "     'execute'])\n",
    "\n",
    "def w(val):\n",
    "    while val > MAX_INT:\n",
    "        val -= 0x10000\n",
    "\n",
    "    while val < MIN_INT:\n",
    "        val += 0x10000\n",
    "\n",
    "    return val\n"
   ]
  },
  {
   "cell_type": "code",
   "execution_count": 18,
   "metadata": {
    "collapsed": true
   },
   "outputs": [],
   "source": [
    "# Define some helpers\n",
    "\n",
    "def push_stack(machine, val):\n",
    "    if len(machine.main_stack) >= MAIN_STACK_SIZE:\n",
    "        raise MachineError(\"Stack overflow: %x\", machine)\n",
    "    machine.main_stack.append(w(val))\n",
    "\n",
    "    return machine\n",
    "\n",
    "\n",
    "def pop_stack(machine):\n",
    "    if len(machine.main_stack) == 0:\n",
    "        raise MachineError(\"Stack underflow: %x\", machine)\n",
    "\n",
    "    return machine.main_stack.pop()\n",
    "\n",
    "\n",
    "class MachineError(BaseException):\n",
    "    def __init__(self, message, machine):\n",
    "        super(MachineError, self).__init__(self, message)\n",
    "        self.machine = machine\n",
    "\n",
    "\n",
    "def make_machine(code=None):\n",
    "    return Machine(\n",
    "        main_stack=deque(), call_stack=deque(),\n",
    "        instruction_pointer=0, code=code or []) "
   ]
  },
  {
   "cell_type": "code",
   "execution_count": 19,
   "metadata": {
    "collapsed": true
   },
   "outputs": [],
   "source": [
    "# Define opcodes\n",
    "\n",
    "# Stack operations\n",
    "PUSH = 0x01\n",
    "POP = 0x02\n",
    "COPY = 0x03\n",
    "SWAP = 0x04\n",
    "\n",
    "# Arithmetic operations\n",
    "ADD = 0x20\n",
    "SUB = 0x21\n",
    "\n",
    "# Control operations\n",
    "JZ = 0x30\n",
    "JG = 0x31\n",
    "JL = 0x32\n",
    "CALL = 0x33\n",
    "RET = 0x34\n",
    "\n",
    "# IO\n",
    "PUTCH = 0x50\n",
    "PUTDEC = 0x51\n",
    "PUTHEX = 0x52\n",
    "PUTS = 0x53\n",
    "\n",
    "# Machine operations\n",
    "HALT = 0x00"
   ]
  },
  {
   "cell_type": "code",
   "execution_count": 20,
   "metadata": {
    "collapsed": true
   },
   "outputs": [],
   "source": [
    "# 0x01 - PUSH\n",
    "def _op_push(machine):\n",
    "    # Get the next code word as the value to push\n",
    "    word, machine = next_instruction(machine)\n",
    "    return push_stack(machine, word)\n",
    "\n",
    "# 0x03 - COPY\n",
    "def _op_copy(machine):\n",
    "    word = pop_stack(machine)\n",
    "    return push_stack(push_stack(machine, word), word)\n",
    "\n",
    "\n",
    "# 0x20 - ADD\n",
    "def _op_add(machine):\n",
    "    return push_stack(\n",
    "        machine,\n",
    "        pop_stack(machine) + pop_stack(machine))\n",
    "\n",
    "# 0x21 - SUB\n",
    "def _op_sub(machine):\n",
    "    op2, op1 = (pop_stack(machine) for _ in range(2))\n",
    "    return push_stack(machine, op1 - op2)"
   ]
  },
  {
   "cell_type": "code",
   "execution_count": 21,
   "metadata": {
    "collapsed": true
   },
   "outputs": [],
   "source": [
    "# 0x40 - JZ (Jump if zero)\n",
    "def _op_jmp_zero(machine):\n",
    "    new_ip, result = (pop_stack(machine) for _ in range(2))\n",
    "    if result == 0:\n",
    "        return Machine(\n",
    "            machine.main_stack, machine.call_stack, new_ip, machine.code)\n",
    "    return machine\n",
    "\n",
    "# 0x41 - JG (Jump if greater)\n",
    "def _op_jmp_greater(machine):\n",
    "    new_ip, result = (pop_stack(machine) for _ in range(2))\n",
    "    if result > 0:\n",
    "        return Machine(\n",
    "            machine.main_stack, machine.call_stack, new_ip, machine.code)\n",
    "    return machine\n",
    "\n",
    "# 0x42 - JG (Jump if greater)\n",
    "def _op_jmp_less(machine):\n",
    "    new_ip, result = (pop_stack(machine) for _ in range(2))\n",
    "    if result < 0:\n",
    "        return Machine(\n",
    "            machine.main_stack, machine.call_stack, new_ip, machine.code)\n",
    "    return machine"
   ]
  },
  {
   "cell_type": "code",
   "execution_count": 22,
   "metadata": {
    "collapsed": true
   },
   "outputs": [],
   "source": [
    "# 0x50 - PUTCH\n",
    "def _op_putch(machine):\n",
    "    val = pop_stack(machine)\n",
    "    sys.stdout.write(chr(val))\n",
    "    return machine\n",
    "\n",
    "# 0x51 - PUTDEC\n",
    "def _op_putdec(machine):\n",
    "    val = pop_stack(machine)\n",
    "    print(val)\n",
    "    return machine"
   ]
  },
  {
   "cell_type": "code",
   "execution_count": 23,
   "metadata": {
    "collapsed": true
   },
   "outputs": [],
   "source": [
    "# A little helper for debugging instructions\n",
    "\n",
    "def describe_instruction(instruction):\n",
    "    return \"0x%.2x -> %s\" % instruction[0:2]"
   ]
  },
  {
   "cell_type": "code",
   "execution_count": 24,
   "metadata": {
    "collapsed": false
   },
   "outputs": [],
   "source": [
    "dispatch_table = {\n",
    "    # Stack operations\n",
    "    PUSH: Instruction(PUSH, \"PUSH\", _op_push),\n",
    "    COPY: Instruction(COPY, \"COPY\", _op_copy),\n",
    "\n",
    "    # Arithmetic operations\n",
    "    ADD: Instruction(ADD, \"ADD\", _op_add),\n",
    "    SUB: Instruction(SUB, \"SUB\", _op_sub),\n",
    "\n",
    "    # Control operations\n",
    "    JZ: Instruction(JZ, \"JZ\", _op_jmp_zero),\n",
    "    JG: Instruction(JG, \"JG\", _op_jmp_greater),\n",
    "    JL: Instruction(JL, \"JL\", _op_jmp_less),\n",
    "\n",
    "    # IO operations\n",
    "    PUTCH: Instruction(PUTCH, \"PUTCH\", _op_putch),\n",
    "    PUTDEC: Instruction(PUTDEC, \"PUTDEC\", _op_putdec)\n",
    "}"
   ]
  },
  {
   "cell_type": "code",
   "execution_count": 25,
   "metadata": {
    "collapsed": true
   },
   "outputs": [],
   "source": [
    "def next_instruction(machine):\n",
    "    main_stack, call_stack, ip, code = machine\n",
    "\n",
    "    # Bounds check on ip\n",
    "    if ip >= len(code) or ip < 0:\n",
    "        raise MachineError(\n",
    "            \"ip out of code range: ip=%d, code size=%d\" % (ip, len(code)),\n",
    "            machine)\n",
    "\n",
    "    # Fetch next instruction opcode (or argument for certain opcodes)\n",
    "    opcode = code[ip]\n",
    "\n",
    "    # Return the machine with the instruction pointer incremented\n",
    "    return opcode, Machine(main_stack, call_stack, ip+1, code)"
   ]
  },
  {
   "cell_type": "code",
   "execution_count": 26,
   "metadata": {
    "collapsed": true
   },
   "outputs": [],
   "source": [
    "def step_machine(machine, debug=True):\n",
    "    opcode, machine = next_instruction(machine)\n",
    "\n",
    "    # Match and execute on instruction with our dispatch table\n",
    "    instruction = dispatch_table.get(opcode)\n",
    "    if not instruction:\n",
    "        raise MachineError(\"Got bad opcode: %x\" % opcode, machine)\n",
    "    if debug:\n",
    "        print(\"++ Exec ip=%d [%s]\" % (\n",
    "            machine.instruction_pointer,\n",
    "            describe_instruction(instruction)))\n",
    "\n",
    "    return instruction.execute(machine)"
   ]
  },
  {
   "cell_type": "code",
   "execution_count": 27,
   "metadata": {
    "collapsed": true
   },
   "outputs": [],
   "source": [
    "def run_machine(machine, debug=True):\n",
    "    \"\"\"\n",
    "    Run the machine until it errors or we hit a HALT instruction\n",
    "    \"\"\"\n",
    "\n",
    "    while True:\n",
    "        # Bounds check\n",
    "        if len(machine.code) <= machine.instruction_pointer:\n",
    "             raise MachineError(\n",
    "                \"ip out of code range: ip=%d, code size=%d\" % (\n",
    "                    machine.instruction_pointer,\n",
    "                    len(machine.code)),\n",
    "                machine)\n",
    "\n",
    "        # Stop on HALT instruction\n",
    "        if machine.code[machine.instruction_pointer] == HALT:\n",
    "            if debug:\n",
    "                print(\"++ HALT\")\n",
    "            return machine\n",
    "        else:\n",
    "            machine = step_machine(machine, debug)"
   ]
  },
  {
   "cell_type": "code",
   "execution_count": 28,
   "metadata": {
    "collapsed": true
   },
   "outputs": [],
   "source": [
    "def run_code_for_result(code, debug=False):\n",
    "    \"\"\"\n",
    "    A shortcut for running some code and returning just the result\n",
    "    \"\"\"\n",
    "    return run_machine(make_machine(code), debug).main_stack.pop()"
   ]
  },
  {
   "cell_type": "code",
   "execution_count": 29,
   "metadata": {
    "collapsed": false
   },
   "outputs": [
    {
     "data": {
      "text/plain": [
       "102"
      ]
     },
     "execution_count": 29,
     "metadata": {},
     "output_type": "execute_result"
    }
   ],
   "source": [
    "PUSH_AND_HALT = [\n",
    "    PUSH, 0x66, # PUSH 66\n",
    "    HALT]       # HALT\n",
    "\n",
    "run_code_for_result(PUSH_AND_HALT)\n",
    "# Result -> 102 (66h)"
   ]
  },
  {
   "cell_type": "code",
   "execution_count": 30,
   "metadata": {
    "collapsed": false
   },
   "outputs": [
    {
     "data": {
      "text/plain": [
       "5"
      ]
     },
     "execution_count": 30,
     "metadata": {},
     "output_type": "execute_result"
    }
   ],
   "source": [
    "ADD_TWO_AND_THREE = [\n",
    "    PUSH, 0x2, # PUSH 2\n",
    "    PUSH, 0x3, # PUSH 3\n",
    "    ADD,       # ADD\n",
    "    HALT]      # HALT\n",
    "\n",
    "run_code_for_result(ADD_TWO_AND_THREE)\n",
    "# Result -> 5"
   ]
  },
  {
   "cell_type": "code",
   "execution_count": 32,
   "metadata": {
    "collapsed": false
   },
   "outputs": [
    {
     "data": {
      "text/plain": [
       "-3"
      ]
     },
     "execution_count": 32,
     "metadata": {},
     "output_type": "execute_result"
    }
   ],
   "source": [
    "SUB_FIVE_FROM_TWO = [\n",
    "    PUSH, 0x2, # PUSH 2\n",
    "    PUSH, 0x5, # PUSH 5\n",
    "    SUB,       # SUB\n",
    "    HALT\n",
    "]\n",
    "\n",
    "run_code_for_result(SUB_FIVE_FROM_TWO)\n",
    "# Result -> -3"
   ]
  },
  {
   "cell_type": "code",
   "execution_count": 34,
   "metadata": {
    "collapsed": false
   },
   "outputs": [
    {
     "data": {
      "text/plain": [
       "512"
      ]
     },
     "execution_count": 34,
     "metadata": {},
     "output_type": "execute_result"
    }
   ],
   "source": [
    "JMP_IF_ZERO = [\n",
    "    PUSH, 0x0,\n",
    "    PUSH, 0x8,\n",
    "    JZ,\n",
    "\n",
    "    PUSH, 0x100, # This should never run\n",
    "    HALT,\n",
    "\n",
    "    # This should always run\n",
    "    PUSH, 0x200,\n",
    "    HALT\n",
    "]\n",
    "# Result -> 0x200 (512h)\n",
    "run_code_for_result(JMP_IF_ZERO)"
   ]
  },
  {
   "cell_type": "code",
   "execution_count": null,
   "metadata": {
    "collapsed": true
   },
   "outputs": [],
   "source": []
  }
 ],
 "metadata": {
  "kernelspec": {
   "display_name": "Python 3",
   "language": "python",
   "name": "python3"
  },
  "language_info": {
   "codemirror_mode": {
    "name": "ipython",
    "version": 3
   },
   "file_extension": ".py",
   "mimetype": "text/x-python",
   "name": "python",
   "nbconvert_exporter": "python",
   "pygments_lexer": "ipython3",
   "version": "3.5.1"
  }
 },
 "nbformat": 4,
 "nbformat_minor": 0
}
